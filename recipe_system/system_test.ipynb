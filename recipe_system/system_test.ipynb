{
 "cells": [
  {
   "cell_type": "code",
   "execution_count": 3,
   "metadata": {},
   "outputs": [],
   "source": [
    "from gensim.models import Word2Vec\n",
    "import time\n",
    "import numpy as np\n",
    "from numba import jit\n",
    "from random import sample,randint\n",
    "# 套用別人的code，完成詞向量加總平均得到文本向量\n",
    "from UtilWordEmbedding import MeanEmbeddingVectorizer\n",
    "import redis"
   ]
  },
  {
   "cell_type": "code",
   "execution_count": 4,
   "metadata": {},
   "outputs": [],
   "source": [
    "model = Word2Vec.load(\"./w2v_recipe.model\")"
   ]
  },
  {
   "cell_type": "code",
   "execution_count": 5,
   "metadata": {},
   "outputs": [],
   "source": [
    "doc_vec = np.loadtxt('./doc_vec.csv', delimiter=',')"
   ]
  },
  {
   "cell_type": "code",
   "execution_count": 7,
   "metadata": {},
   "outputs": [],
   "source": [
    "redis = redis.StrictRedis(host=\"192.168.1.176\", port=6379, decode_responses=True)"
   ]
  },
  {
   "cell_type": "code",
   "execution_count": 9,
   "metadata": {},
   "outputs": [],
   "source": [
    "mean_embedding_vec = MeanEmbeddingVectorizer(model)"
   ]
  },
  {
   "cell_type": "code",
   "execution_count": 11,
   "metadata": {},
   "outputs": [],
   "source": [
    "def convert_vector(user_refri_list):\n",
    "    user_embedding = mean_embedding_vec.transform([user_refri_list])\n",
    "    return user_embedding.reshape(100, )"
   ]
  },
  {
   "cell_type": "code",
   "execution_count": 12,
   "metadata": {},
   "outputs": [],
   "source": [
    "def calculate_similarity(user_vec: np.ndarray):\n",
    "    '''setting function to calculate cosine similarity with numba module'''\n",
    "    @jit(nopython=True)\n",
    "    def cosine_similarity_numba(u: np.ndarray, v: np.ndarray):\n",
    "        assert (u.shape[0] == v.shape[0])\n",
    "        uv = 0\n",
    "        uu = 0\n",
    "        vv = 0\n",
    "        for i in range(u.shape[0]):\n",
    "            uv += u[i] * v[i]\n",
    "            uu += u[i] * u[i]\n",
    "            vv += v[i] * v[i]\n",
    "        cos_theta = 1\n",
    "        if uu != 0 and vv != 0:\n",
    "            cos_theta = uv / np.sqrt(uu * vv)\n",
    "            return cos_theta\n",
    "        else:\n",
    "            return 0\n",
    "\n",
    "    '''start calculating'''\n",
    "    cosine_numba = {}\n",
    "    for idx, vec in enumerate(doc_vec):\n",
    "        cosine_numba[idx] = cosine_similarity_numba(user_vec, vec)\n",
    "\n",
    "    election_list = sorted(cosine_numba.items(), key=lambda item: item[1], reverse=True)\n",
    "    '''return only top 10 high similarity recipe'''\n",
    "    return election_list[:10]"
   ]
  },
  {
   "cell_type": "code",
   "execution_count": 42,
   "metadata": {},
   "outputs": [],
   "source": [
    "def get_recipe_info(user_sim_list):\n",
    "    for idx,each in enumerate(user_sim_list):\n",
    "        recipe_id = each[0]\n",
    "        recipe = redis.hgetall(recipe_id)\n",
    "        recipe_ing_str = recipe[\"ingredient\"]\n",
    "        recipe_ing = recipe_ing_str.split(\",\")\n",
    "        recipe_like = recipe[\"like\"]\n",
    "        recipe_ing_set = set([x.split(\" \")[0] for x in recipe_ing])\n",
    "        yield (recipe[\"recipe\"],recipe_like,recipe_ing_str,recipe_ing_set)"
   ]
  },
  {
   "cell_type": "code",
   "execution_count": 43,
   "metadata": {},
   "outputs": [],
   "source": [
    "def from_set_to_recipe_list(user_set):\n",
    "    user_vec = convert_vector(user_set)\n",
    "    user_sim_list = calculate_similarity(user_vec)\n",
    "    return list(get_recipe_info(user_sim_list))"
   ]
  },
  {
   "cell_type": "code",
   "execution_count": 75,
   "metadata": {},
   "outputs": [],
   "source": [
    "def refrigerator_cleaner(user_refri_list):\n",
    "    '''\n",
    "    user_refri_list: 使用者所擁有的所有食材\n",
    "    doc_vec: 全食譜的食譜向量(numpy array)\n",
    "    ----------------------------------------------------------\n",
    "    此方法為持有食材之使用最大化的食譜推薦系統\n",
    "    步驟分解\n",
    "    1. 試圖用全部食材組成一向量\n",
    "    2. 以此向量計算食譜相似度，得到一個以相似度高低排序過的清單\n",
    "    3. 將清單內的食譜食材一一和用戶擁有食材比對\n",
    "    4. 如果有完全符合食材需求的食譜就進行推薦\n",
    "    5. 若無，則推薦缺漏食材數最少的食譜\n",
    "    6. 推薦完食譜後扣除使用食材，再以剩餘食材組成一向量，重複步驟2-6\n",
    "    7. 一直推薦到剩餘食材少於2樣時停止推薦\n",
    "    '''\n",
    "    selected_number = 1\n",
    "    elected_recipe = []\n",
    "    while True:\n",
    "        user_set = set(user_refri_list)\n",
    "        if len(user_set) < 2:\n",
    "            try:\n",
    "                print(f'食材不足,只剩下{user_set.pop()},停止提供推薦...')\n",
    "                break\n",
    "            except KeyError:\n",
    "                print(f'食材不足,停止提供推薦...')\n",
    "                break\n",
    "        recom_list = from_set_to_recipe_list(user_set)\n",
    "        print(f\"新一輪開始.... 這輪推薦清單有{len(recom_list)}筆\")\n",
    "        print(f\"使用者食材庫還有{user_set}\")\n",
    "\n",
    "        waiting_recipe = []  #存放待定食譜\n",
    "        for idx,each_selected in enumerate(recom_list):\n",
    "            recipe_set = each_selected[3]\n",
    "            ing_diff = recipe_set - user_set\n",
    "\n",
    "            # 判定條件: recipe_set裡面是否有不在user_set內的食材,若無則回傳set(), if判定False\n",
    "            if not ing_diff:\n",
    "                print(f\"已為您找到第{selected_number}道食譜: {each_selected[0]}\")\n",
    "                print(f'所需食材: {recipe_set}')\n",
    "                user_refri_list = user_set - recipe_set\n",
    "                elected_recipe.append(each_selected[0:3]+(set(),))  # 最後一個[]是收藏缺漏食材資訊\n",
    "                break\n",
    "\n",
    "            # enter if not full matched\n",
    "            else:\n",
    "                if not waiting_recipe:\n",
    "                    waiting_recipe = each_selected + (ing_diff,)\n",
    "                    print(\"產生第一筆待定\")\n",
    "                    print(waiting_recipe[0])\n",
    "                    continue\n",
    "                elif len(waiting_recipe[-1]) > len(ing_diff):    # 如果該食譜缺漏食材數更少，就把待定食譜換成此食譜\n",
    "                    waiting_recipe = each_selected + (ing_diff,)\n",
    "                    print(\"產生下一筆待定\")\n",
    "                    print(waiting_recipe[0])\n",
    "                    continue\n",
    "                    \n",
    "            # 拜訪完全部食譜，都沒有完全match的\n",
    "            if idx+1 == len(recom_list):\n",
    "                print(\"進入比對模式\")\n",
    "                print(f\"已為您找到第{selected_number}道食譜: {waiting_recipe[0]}\")\n",
    "                print(f'所需食材: {waiting_recipe[3]}, 有缺食材: {waiting_recipe[-1]}')\n",
    "                user_refri_list = user_set - waiting_recipe[3]\n",
    "                elected_recipe.append([waiting_recipe[0:3],waiting_recipe[-1]])\n",
    "                break\n",
    "        selected_number += 1\n",
    "\n",
    "    return elected_recipe"
   ]
  },
  {
   "cell_type": "code",
   "execution_count": 76,
   "metadata": {},
   "outputs": [],
   "source": [
    "user_refri_list = [\"麵粉\",'鮮奶油','雞蛋','香蕉','洋蔥','蝦','藍苺','豬肉','高麗菜','番茄','大蒜','抹茶',\"太白粉\"]"
   ]
  },
  {
   "cell_type": "code",
   "execution_count": 77,
   "metadata": {},
   "outputs": [
    {
     "name": "stdout",
     "output_type": "stream",
     "text": [
      "新一輪開始.... 這輪推薦清單有10筆\n",
      "使用者食材庫還有{'蝦', '鮮奶油', '大蒜', '洋蔥', '太白粉', '香蕉', '藍苺', '抹茶', '高麗菜', '豬肉', '麵粉', '雞蛋', '番茄'}\n",
      "產生第一筆待定\n",
      "法式鹹派核桃培根派\n",
      "產生下一筆待定\n",
      "杏包菇番茄培根鹹蛋糕\n",
      "已為您找到第1道食譜: 焦糖香蕉蛋糕七吋咕咕霍\n",
      "所需食材: {'鮮奶油', '香蕉', '藍苺', '麵粉', '雞蛋'}\n",
      "新一輪開始.... 這輪推薦清單有10筆\n",
      "使用者食材庫還有{'蝦', '大蒜', '洋蔥', '太白粉', '抹茶', '高麗菜', '豬肉', '番茄'}\n",
      "已為您找到第2道食譜: 明蝦套餐小確幸\n",
      "所需食材: {'蝦', '大蒜', '洋蔥', '高麗菜', '豬肉'}\n",
      "新一輪開始.... 這輪推薦清單有10筆\n",
      "使用者食材庫還有{'太白粉', '抹茶', '番茄'}\n",
      "產生第一筆待定\n",
      "馬鈴薯手搓甜湯圓\n",
      "進入比對模式\n",
      "已為您找到第3道食譜: 馬鈴薯手搓甜湯圓\n",
      "所需食材: {'太白粉', '馬鈴薯', '抹茶'}, 有缺食材: {'馬鈴薯'}\n",
      "食材不足,只剩下番茄,停止提供推薦...\n"
     ]
    }
   ],
   "source": [
    "first_recom = refrigerator_cleaner(user_refri_list)"
   ]
  },
  {
   "cell_type": "code",
   "execution_count": 78,
   "metadata": {},
   "outputs": [
    {
     "data": {
      "text/plain": [
       "[('焦糖香蕉蛋糕七吋咕咕霍',\n",
       "  '146',\n",
       "  '鮮奶油 68 gram,麵粉 150 gram,雞蛋 180 gram,香蕉 135 gram,藍苺 140 gram',\n",
       "  set()),\n",
       " ('明蝦套餐小確幸',\n",
       "  '44',\n",
       "  '蝦 260 gram,洋蔥 80 gram,高麗菜 210 gram,豬肉 270 gram,大蒜 40 gram',\n",
       "  set()),\n",
       " [('馬鈴薯手搓甜湯圓', '208', '馬鈴薯 250 gram,太白粉 100 gram,抹茶 10 gram'), {'馬鈴薯'}]]"
      ]
     },
     "execution_count": 78,
     "metadata": {},
     "output_type": "execute_result"
    }
   ],
   "source": [
    "first_recom"
   ]
  },
  {
   "cell_type": "code",
   "execution_count": 84,
   "metadata": {},
   "outputs": [],
   "source": [
    "def quick_recommend(user_refri_list):\n",
    "    user_set = set(user_refri_list)\n",
    "    random_set = sample(user_refri_list, randint(2, len(user_refri_list)))\n",
    "    recom_list = from_set_to_recipe_list(random_set)\n",
    "\n",
    "    waiting_recipe = []  # 存放待定食譜\n",
    "    for idx, each_selected in enumerate(recom_list):\n",
    "        recipe_set = each_selected[3]\n",
    "        ing_diff = recipe_set - user_set\n",
    "\n",
    "        if not ing_diff:\n",
    "            return each_selected[0:3]+(set(),)\n",
    "\n",
    "        else:\n",
    "            if not waiting_recipe:\n",
    "                waiting_recipe = each_selected + (ing_diff,)\n",
    "                continue\n",
    "            elif len(waiting_recipe[-1]) > len(ing_diff):  # 如果該食譜缺漏食材數更少，就把待定食譜換成此食譜\n",
    "                waiting_recipe = each_selected + (ing_diff,)\n",
    "                continue\n",
    "\n",
    "    return waiting_recipe[0:3] + (waiting_recipe[-1],)"
   ]
  },
  {
   "cell_type": "code",
   "execution_count": 85,
   "metadata": {},
   "outputs": [],
   "source": [
    "def recipe_recommend_system(user_refri_list,recipe_number=5):\n",
    "    '''\n",
    "    user_refri_list: 使用者所擁有的所有食材\n",
    "    doc_vec: 全食譜的食譜向量(numpy array)\n",
    "    ----------------------------------------------------------\n",
    "    recipe_number: 期望推薦的食譜數量，預設為10道\n",
    "    此方法為從持有食材隨機抽樣進行推薦的系統\n",
    "    步驟分解\n",
    "    1. 隨機選出不定數量的食材組合成一向量\n",
    "    2. 以此向量計算食譜相似度，得到一個以相似度高低排序過的清單\n",
    "    3. 將清單內的食譜食材一一和用戶擁有食材比對\n",
    "    4. 如果有完全符合食材需求的食譜就推薦出來，若無就pass\n",
    "    5. 該清單比對完後進行下一輪，重複步驟1-5\n",
    "    6. 若連續三輪都找不到完全符合食材需求的食譜，則從次輪開始進入快速推薦\n",
    "    6-1. 快速推薦: 每一輪必推薦一道食譜，如果有完全符合的則優先，若無則推薦食材缺少數最低的食譜\n",
    "    7. 直到推薦清單達到設定值後便停止推薦\n",
    "    '''\n",
    "\n",
    "    selected_number = 1\n",
    "    not_found_count = 0\n",
    "    recommend_recipe_name = set()\n",
    "    elected_recipe = []\n",
    "    while True:\n",
    "        if selected_number == recipe_number + 1:\n",
    "            print(f'已完成{recipe_number}道食譜推薦...')\n",
    "            break\n",
    "\n",
    "        user_set = set(user_refri_list)\n",
    "        random_set = sample(user_refri_list,randint(2,len(user_refri_list)))\n",
    "        recom_list = from_set_to_recipe_list(random_set)\n",
    "\n",
    "\n",
    "        for idx,each_selected in enumerate(recom_list):\n",
    "            recipe_set = each_selected[3]\n",
    "            ing_diff = recipe_set - user_set\n",
    "            if each_selected[0] in recommend_recipe_name:\n",
    "                continue\n",
    "\n",
    "            # 判定條件: recipe_set裡面是否有不在user_set內的食材,若無則回傳set(), if判定False\n",
    "            if not ing_diff:\n",
    "                print(f\"已為您找到第{selected_number}道食譜: {each_selected[0]}\")\n",
    "                print(f'所需食材: {recipe_set}')\n",
    "                selected_number += 1\n",
    "                not_found_count = 0\n",
    "                recommend_recipe_name.add(each_selected[0])\n",
    "                elected_recipe.append(each_selected[0:3]+(set(),))\n",
    "                break\n",
    "            else:\n",
    "                pass\n",
    "\n",
    "            if idx+1 == len(recom_list):\n",
    "                not_found_count += 1\n",
    "\n",
    "\n",
    "        # 判斷是否進入快速推薦\n",
    "        if not_found_count >= 3:\n",
    "            print('連續3次無法推薦完全符合的食譜，進入第二階段快速推薦')\n",
    "            for i in range(recipe_number-selected_number+1):\n",
    "                #　持續找，直到找到沒有重複的食譜\n",
    "                while True:\n",
    "                    quick_recipe = quick_recommend(user_refri_list)\n",
    "                    if quick_recipe[0] not in recommend_recipe_name:\n",
    "                        break\n",
    "\n",
    "                elected_recipe.append(quick_recipe)\n",
    "\n",
    "                selected_number += 1\n",
    "                recommend_recipe_name.add(quick_recipe[0])\n",
    "\n",
    "            break\n",
    "\n",
    "        else:\n",
    "            continue\n",
    "\n",
    "    return elected_recipe"
   ]
  },
  {
   "cell_type": "code",
   "execution_count": 90,
   "metadata": {},
   "outputs": [
    {
     "name": "stdout",
     "output_type": "stream",
     "text": [
      "已為您找到第1道食譜: 藍莓雪糕\n",
      "所需食材: {'香蕉', '藍苺'}\n",
      "已為您找到第2道食譜: 焦糖香蕉蛋糕七吋咕咕霍\n",
      "所需食材: {'鮮奶油', '香蕉', '藍苺', '麵粉', '雞蛋'}\n",
      "連續3次無法推薦完全符合的食譜，進入第二階段快速推薦\n"
     ]
    }
   ],
   "source": [
    "second_recom = recipe_recommend_system(user_refri_list)"
   ]
  },
  {
   "cell_type": "code",
   "execution_count": 91,
   "metadata": {},
   "outputs": [
    {
     "data": {
      "text/plain": [
       "[('藍莓雪糕', '308', '香蕉 150 gram,藍苺 140 gram', set()),\n",
       " ('焦糖香蕉蛋糕七吋咕咕霍',\n",
       "  '146',\n",
       "  '鮮奶油 68 gram,麵粉 150 gram,雞蛋 180 gram,香蕉 135 gram,藍苺 140 gram',\n",
       "  set()),\n",
       " ('藍莓果昔',\n",
       "  '22',\n",
       "  '蔬菜 90.0 ml,雞蛋 90.0 ml,綜合水果 120 gram,香蕉 180 ml,綜合核果 70 gram,巧克力 70 gram',\n",
       "  {'巧克力', '綜合核果', '綜合水果', '蔬菜'}),\n",
       " ('萬家香大吟釀薄鹽煎餃佐特製五味醬', '85', '麵粉 180 gram,大蒜 40 gram', set()),\n",
       " ('綠藤芽花生醬香蕉精力湯', '93', '高麗菜 30 gram,香蕉 150 gram', set())]"
      ]
     },
     "execution_count": 91,
     "metadata": {},
     "output_type": "execute_result"
    }
   ],
   "source": [
    "second_recom"
   ]
  },
  {
   "cell_type": "code",
   "execution_count": 92,
   "metadata": {},
   "outputs": [],
   "source": [
    "a = {'ingredient': '綜合核果 300 gram,麥芽 120 gram,雞蛋 60 gram,蔓越莓 50 gram',\n",
    "                         'recipe': '過年小零嘴牛軋糖',\n",
    "                         'recipe_id': '123',\n",
    "                         'seasoning': '砂糖 170 gram,蜂蜜 50 gram,水 60 ml',\n",
    "                         'cluster': 'cluster6',\n",
    "                         'image': 'https://imageproxy.icook.network/resize?height=600&nocrop=false&stripmeta=true&type=auto&url=http%3A%2F%2Ftokyo-kitchen.icook.tw.s3.amazonaws.com%2Fuploads%2Frecipe%2Fcover%2F99211%2F0f2ce1865bd45541.jpg&width=800',\n",
    "                         'like': '719',\n",
    "                         'url': 'https://icook.tw/recipes/99211',\n",
    "                         'time': '30分鐘',\n",
    "                         'quantity': '1'}"
   ]
  },
  {
   "cell_type": "code",
   "execution_count": 97,
   "metadata": {},
   "outputs": [],
   "source": [
    "aa = set(x.split(\" \")[0] for x in a[\"ingredient\"].split(\",\"))"
   ]
  },
  {
   "cell_type": "code",
   "execution_count": 126,
   "metadata": {},
   "outputs": [
    {
     "data": {
      "text/plain": [
       "'蔓越莓,雞蛋,麥芽,綜合核果'"
      ]
     },
     "execution_count": 126,
     "metadata": {},
     "output_type": "execute_result"
    }
   ],
   "source": [
    "\",\".join(aa)"
   ]
  },
  {
   "cell_type": "code",
   "execution_count": 100,
   "metadata": {},
   "outputs": [],
   "source": [
    "b = set(['蔓越莓', '雞蛋'])"
   ]
  },
  {
   "cell_type": "code",
   "execution_count": 110,
   "metadata": {},
   "outputs": [],
   "source": [
    "import json"
   ]
  },
  {
   "cell_type": "code",
   "execution_count": 112,
   "metadata": {},
   "outputs": [],
   "source": [
    "recipe_menu_tmp = json.load(open(\"../素材/recipe_reply/reply.json\", encoding='utf-8'))"
   ]
  },
  {
   "cell_type": "code",
   "execution_count": 115,
   "metadata": {},
   "outputs": [],
   "source": [
    "cc = recipe_menu_tmp['contents']"
   ]
  },
  {
   "cell_type": "code",
   "execution_count": 129,
   "metadata": {},
   "outputs": [
    {
     "data": {
      "text/plain": [
       "{'type': 'button',\n",
       " 'action': {'type': 'postback',\n",
       "  'label': '我要這個食譜',\n",
       "  'text': '您已成功選入食譜，將幫您從智能冰箱中扣除所需食材',\n",
       "  'data': 'confirm='},\n",
       " 'color': '#39D230FF',\n",
       " 'style': 'primary'}"
      ]
     },
     "execution_count": 129,
     "metadata": {},
     "output_type": "execute_result"
    }
   ],
   "source": [
    "cc[0][\"footer\"][\"contents\"][1]"
   ]
  },
  {
   "cell_type": "code",
   "execution_count": 130,
   "metadata": {},
   "outputs": [
    {
     "data": {
      "text/plain": [
       "{'recipe': '草莓棒棒糖',\n",
       " 'ingredient': '草莓 260 gram,牛奶巧克力 110 gram,巧克力 70 gram,煉乳 60 gram',\n",
       " 'seasoning': '水 50 ml,味醂 50 ml,鰹魚粉 10 gram',\n",
       " 'recipe_id': '1',\n",
       " 'image': 'https://imageproxy.icook.network/resize?height=600&nocrop=false&stripmeta=true&type=auto&url=http%3A%2F%2Ftokyo-kitchen.icook.tw.s3.amazonaws.com%2Fuploads%2Frecipe%2Fcover%2F99004%2F12cd6f5bc1ab00ab.jpg&width=800',\n",
       " 'quantity': '2',\n",
       " 'like': '121',\n",
       " 'cluster': 'cluster6',\n",
       " 'url': 'https://icook.tw/recipes/99004',\n",
       " 'time': '20分鐘'}"
      ]
     },
     "execution_count": 130,
     "metadata": {},
     "output_type": "execute_result"
    }
   ],
   "source": [
    "redis.hgetall(\"1\")"
   ]
  },
  {
   "cell_type": "code",
   "execution_count": 132,
   "metadata": {},
   "outputs": [],
   "source": [
    "key = redis.keys()"
   ]
  },
  {
   "cell_type": "code",
   "execution_count": 133,
   "metadata": {},
   "outputs": [
    {
     "data": {
      "text/plain": [
       "180198"
      ]
     },
     "execution_count": 133,
     "metadata": {},
     "output_type": "execute_result"
    }
   ],
   "source": [
    "len(key)"
   ]
  },
  {
   "cell_type": "code",
   "execution_count": 140,
   "metadata": {},
   "outputs": [
    {
     "data": {
      "text/plain": [
       "'U429ec102b46a5332b32c4f1a8b3b04db'"
      ]
     },
     "execution_count": 140,
     "metadata": {},
     "output_type": "execute_result"
    }
   ],
   "source": [
    "redis.srandmember(\"userid\")"
   ]
  },
  {
   "cell_type": "code",
   "execution_count": 164,
   "metadata": {},
   "outputs": [],
   "source": [
    "k = redis.hgetall(\"U429ec102b46a5332b32c4f1a8b3b04db\")"
   ]
  },
  {
   "cell_type": "code",
   "execution_count": 162,
   "metadata": {},
   "outputs": [
    {
     "data": {
      "text/plain": [
       "1"
      ]
     },
     "execution_count": 162,
     "metadata": {},
     "output_type": "execute_result"
    }
   ],
   "source": [
    "redis.hdel('U429ec102b46a5332b32c4f1a8b3b04db','芭樂')"
   ]
  },
  {
   "cell_type": "code",
   "execution_count": 167,
   "metadata": {},
   "outputs": [],
   "source": [
    "del k[\"雞蛋\"]"
   ]
  },
  {
   "cell_type": "code",
   "execution_count": 168,
   "metadata": {},
   "outputs": [
    {
     "data": {
      "text/plain": [
       "{'番茄': '10,顆,2020/10/24',\n",
       " '羊肉': '7,個,2020/10/21',\n",
       " '大蒜': '2,根,2020/10/23',\n",
       " '蔥': '5,個,2020/10/24',\n",
       " '豬肉': '200,gram,2020/10/19',\n",
       " '高麗菜': '1,顆,2020/10/23',\n",
       " '金針菇': '2,根,2020/10/23',\n",
       " '太白粉': '500,gram,2020/10/01'}"
      ]
     },
     "execution_count": 168,
     "metadata": {},
     "output_type": "execute_result"
    }
   ],
   "source": [
    "k"
   ]
  },
  {
   "cell_type": "code",
   "execution_count": null,
   "metadata": {},
   "outputs": [],
   "source": []
  }
 ],
 "metadata": {
  "kernelspec": {
   "display_name": "Python 3",
   "language": "python",
   "name": "python3"
  },
  "language_info": {
   "codemirror_mode": {
    "name": "ipython",
    "version": 3
   },
   "file_extension": ".py",
   "mimetype": "text/x-python",
   "name": "python",
   "nbconvert_exporter": "python",
   "pygments_lexer": "ipython3",
   "version": "3.7.6"
  }
 },
 "nbformat": 4,
 "nbformat_minor": 4
}
